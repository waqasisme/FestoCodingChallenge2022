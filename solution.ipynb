{
  "nbformat": 4,
  "nbformat_minor": 0,
  "metadata": {
    "colab": {
      "name": "solution.ipynb",
      "provenance": [],
      "collapsed_sections": [
        "8hEzQGhIhu5i"
      ],
      "toc_visible": true,
      "authorship_tag": "ABX9TyO9hYzCME1rtcqMB192ySlE",
      "include_colab_link": true
    },
    "kernelspec": {
      "name": "python3",
      "display_name": "Python 3"
    },
    "language_info": {
      "name": "python"
    }
  },
  "cells": [
    {
      "cell_type": "markdown",
      "metadata": {
        "id": "view-in-github",
        "colab_type": "text"
      },
      "source": [
        "<a href=\"https://colab.research.google.com/github/waqasisme/FestoCodingChallenge2022/blob/main/solution.ipynb\" target=\"_parent\"><img src=\"https://colab.research.google.com/assets/colab-badge.svg\" alt=\"Open In Colab\"/></a>"
      ]
    },
    {
      "cell_type": "markdown",
      "source": [
        "# **CodeFest 22 Solution Notebook**\n",
        "[link to competition website](https://2022.coding-challenge.festo.com/)\n",
        "\n",
        "\n"
      ],
      "metadata": {
        "id": "4o9E-4N2Rr9s"
      }
    },
    {
      "cell_type": "markdown",
      "source": [
        "# **Introduction**\n",
        "https://2022.coding-challenge.festo.com/puzzle/0"
      ],
      "metadata": {
        "id": "8hEzQGhIhu5i"
      }
    },
    {
      "cell_type": "code",
      "execution_count": 9,
      "metadata": {
        "colab": {
          "base_uri": "https://localhost:8080/",
          "height": 206
        },
        "id": "wU4fsF7aVaNm",
        "outputId": "6a3a1a7d-cc85-4b06-a075-a907b727521c"
      },
      "outputs": [
        {
          "output_type": "execute_result",
          "data": {
            "text/plain": [
              "                         Username      ID  AccessKey FirstLoginTime\n",
              "0  immenseResearch                 500025        211          08:04\n",
              "1  great.night                     648341          6          09:04\n",
              "2  gray_basket                     478873         82          07:15\n",
              "3  bubblyPerson                    294887        208          09:03\n",
              "4  WorriedLine                     489479        231          07:47"
            ],
            "text/html": [
              "\n",
              "  <div id=\"df-79f68d69-e3f2-4212-912f-6a7a2bec31c6\">\n",
              "    <div class=\"colab-df-container\">\n",
              "      <div>\n",
              "<style scoped>\n",
              "    .dataframe tbody tr th:only-of-type {\n",
              "        vertical-align: middle;\n",
              "    }\n",
              "\n",
              "    .dataframe tbody tr th {\n",
              "        vertical-align: top;\n",
              "    }\n",
              "\n",
              "    .dataframe thead th {\n",
              "        text-align: right;\n",
              "    }\n",
              "</style>\n",
              "<table border=\"1\" class=\"dataframe\">\n",
              "  <thead>\n",
              "    <tr style=\"text-align: right;\">\n",
              "      <th></th>\n",
              "      <th>Username</th>\n",
              "      <th>ID</th>\n",
              "      <th>AccessKey</th>\n",
              "      <th>FirstLoginTime</th>\n",
              "    </tr>\n",
              "  </thead>\n",
              "  <tbody>\n",
              "    <tr>\n",
              "      <th>0</th>\n",
              "      <td>immenseResearch</td>\n",
              "      <td>500025</td>\n",
              "      <td>211</td>\n",
              "      <td>08:04</td>\n",
              "    </tr>\n",
              "    <tr>\n",
              "      <th>1</th>\n",
              "      <td>great.night</td>\n",
              "      <td>648341</td>\n",
              "      <td>6</td>\n",
              "      <td>09:04</td>\n",
              "    </tr>\n",
              "    <tr>\n",
              "      <th>2</th>\n",
              "      <td>gray_basket</td>\n",
              "      <td>478873</td>\n",
              "      <td>82</td>\n",
              "      <td>07:15</td>\n",
              "    </tr>\n",
              "    <tr>\n",
              "      <th>3</th>\n",
              "      <td>bubblyPerson</td>\n",
              "      <td>294887</td>\n",
              "      <td>208</td>\n",
              "      <td>09:03</td>\n",
              "    </tr>\n",
              "    <tr>\n",
              "      <th>4</th>\n",
              "      <td>WorriedLine</td>\n",
              "      <td>489479</td>\n",
              "      <td>231</td>\n",
              "      <td>07:47</td>\n",
              "    </tr>\n",
              "  </tbody>\n",
              "</table>\n",
              "</div>\n",
              "      <button class=\"colab-df-convert\" onclick=\"convertToInteractive('df-79f68d69-e3f2-4212-912f-6a7a2bec31c6')\"\n",
              "              title=\"Convert this dataframe to an interactive table.\"\n",
              "              style=\"display:none;\">\n",
              "        \n",
              "  <svg xmlns=\"http://www.w3.org/2000/svg\" height=\"24px\"viewBox=\"0 0 24 24\"\n",
              "       width=\"24px\">\n",
              "    <path d=\"M0 0h24v24H0V0z\" fill=\"none\"/>\n",
              "    <path d=\"M18.56 5.44l.94 2.06.94-2.06 2.06-.94-2.06-.94-.94-2.06-.94 2.06-2.06.94zm-11 1L8.5 8.5l.94-2.06 2.06-.94-2.06-.94L8.5 2.5l-.94 2.06-2.06.94zm10 10l.94 2.06.94-2.06 2.06-.94-2.06-.94-.94-2.06-.94 2.06-2.06.94z\"/><path d=\"M17.41 7.96l-1.37-1.37c-.4-.4-.92-.59-1.43-.59-.52 0-1.04.2-1.43.59L10.3 9.45l-7.72 7.72c-.78.78-.78 2.05 0 2.83L4 21.41c.39.39.9.59 1.41.59.51 0 1.02-.2 1.41-.59l7.78-7.78 2.81-2.81c.8-.78.8-2.07 0-2.86zM5.41 20L4 18.59l7.72-7.72 1.47 1.35L5.41 20z\"/>\n",
              "  </svg>\n",
              "      </button>\n",
              "      \n",
              "  <style>\n",
              "    .colab-df-container {\n",
              "      display:flex;\n",
              "      flex-wrap:wrap;\n",
              "      gap: 12px;\n",
              "    }\n",
              "\n",
              "    .colab-df-convert {\n",
              "      background-color: #E8F0FE;\n",
              "      border: none;\n",
              "      border-radius: 50%;\n",
              "      cursor: pointer;\n",
              "      display: none;\n",
              "      fill: #1967D2;\n",
              "      height: 32px;\n",
              "      padding: 0 0 0 0;\n",
              "      width: 32px;\n",
              "    }\n",
              "\n",
              "    .colab-df-convert:hover {\n",
              "      background-color: #E2EBFA;\n",
              "      box-shadow: 0px 1px 2px rgba(60, 64, 67, 0.3), 0px 1px 3px 1px rgba(60, 64, 67, 0.15);\n",
              "      fill: #174EA6;\n",
              "    }\n",
              "\n",
              "    [theme=dark] .colab-df-convert {\n",
              "      background-color: #3B4455;\n",
              "      fill: #D2E3FC;\n",
              "    }\n",
              "\n",
              "    [theme=dark] .colab-df-convert:hover {\n",
              "      background-color: #434B5C;\n",
              "      box-shadow: 0px 1px 3px 1px rgba(0, 0, 0, 0.15);\n",
              "      filter: drop-shadow(0px 1px 2px rgba(0, 0, 0, 0.3));\n",
              "      fill: #FFFFFF;\n",
              "    }\n",
              "  </style>\n",
              "\n",
              "      <script>\n",
              "        const buttonEl =\n",
              "          document.querySelector('#df-79f68d69-e3f2-4212-912f-6a7a2bec31c6 button.colab-df-convert');\n",
              "        buttonEl.style.display =\n",
              "          google.colab.kernel.accessAllowed ? 'block' : 'none';\n",
              "\n",
              "        async function convertToInteractive(key) {\n",
              "          const element = document.querySelector('#df-79f68d69-e3f2-4212-912f-6a7a2bec31c6');\n",
              "          const dataTable =\n",
              "            await google.colab.kernel.invokeFunction('convertToInteractive',\n",
              "                                                     [key], {});\n",
              "          if (!dataTable) return;\n",
              "\n",
              "          const docLinkHtml = 'Like what you see? Visit the ' +\n",
              "            '<a target=\"_blank\" href=https://colab.research.google.com/notebooks/data_table.ipynb>data table notebook</a>'\n",
              "            + ' to learn more about interactive tables.';\n",
              "          element.innerHTML = '';\n",
              "          dataTable['output_type'] = 'display_data';\n",
              "          await google.colab.output.renderOutput(dataTable, element);\n",
              "          const docLink = document.createElement('div');\n",
              "          docLink.innerHTML = docLinkHtml;\n",
              "          element.appendChild(docLink);\n",
              "        }\n",
              "      </script>\n",
              "    </div>\n",
              "  </div>\n",
              "  "
            ]
          },
          "metadata": {},
          "execution_count": 9
        }
      ],
      "source": [
        "import pandas as pd\n",
        "df = pd.read_csv('office_database.csv', names= [\"Username\", \"ID\", \"AccessKey\", \"FirstLoginTime\"])\n",
        "df.head()"
      ]
    },
    {
      "cell_type": "code",
      "source": [
        "id_match = df['ID'].apply(lambda f: \"814\" in str(f)) # matching ID numbers\n",
        "sum(id_match)"
      ],
      "metadata": {
        "colab": {
          "base_uri": "https://localhost:8080/"
        },
        "id": "C25yp7hlWgw7",
        "outputId": "6c5cf4e6-4cdd-44cc-9b98-7538d1ff6a80"
      },
      "execution_count": 10,
      "outputs": [
        {
          "output_type": "execute_result",
          "data": {
            "text/plain": [
              "91"
            ]
          },
          "metadata": {},
          "execution_count": 10
        }
      ]
    },
    {
      "cell_type": "code",
      "source": [
        "can_go_kitchen = df['AccessKey'].apply(lambda f: f & 8 != 0) # people with access to module 5\n",
        "sum(can_go_kitchen)"
      ],
      "metadata": {
        "colab": {
          "base_uri": "https://localhost:8080/"
        },
        "id": "MD9vVIuXVNpH",
        "outputId": "989d47fe-9d08-4fc1-aebb-bd42ee521a40"
      },
      "execution_count": 11,
      "outputs": [
        {
          "output_type": "execute_result",
          "data": {
            "text/plain": [
              "93"
            ]
          },
          "metadata": {},
          "execution_count": 11
        }
      ]
    },
    {
      "cell_type": "code",
      "source": [
        "from datetime import datetime\n",
        "# cleaning up first login time column to trim strings and fix format\n",
        "df['FirstLoginTime'] = df['FirstLoginTime'].apply(lambda f: f.strip())\n",
        "df['FirstLoginTime'] = df['FirstLoginTime'].apply(lambda f: '12:12' if f == '99:99' else f)\n",
        "df['FirstLoginTime'] = pd.to_datetime(df.FirstLoginTime, format='%H:%M')\n",
        "# python turned them into full date time objects, in hindsight should've just used epoch \n",
        "could_be_there = df['FirstLoginTime'].apply(lambda d: d < datetime.strptime('1900-01-01 07:14:00', '%Y-%m-%d %H:%M:%S'))\n",
        "sum(could_be_there)\n"
      ],
      "metadata": {
        "colab": {
          "base_uri": "https://localhost:8080/"
        },
        "id": "wamMr9pQVOO0",
        "outputId": "07efcbba-0b61-44aa-98a9-bd32885f1502"
      },
      "execution_count": 12,
      "outputs": [
        {
          "output_type": "execute_result",
          "data": {
            "text/plain": [
              "86"
            ]
          },
          "metadata": {},
          "execution_count": 12
        }
      ]
    },
    {
      "cell_type": "markdown",
      "source": [
        "## Introduction Solution"
      ],
      "metadata": {
        "id": "tgUbryu_WMa7"
      }
    },
    {
      "cell_type": "code",
      "source": [
        "# people that meet each condition\n",
        "df[id_match & can_go_kitchen & could_be_there] # answer to introduction (HQ)"
      ],
      "metadata": {
        "colab": {
          "base_uri": "https://localhost:8080/",
          "height": 81
        },
        "id": "lbsgc9pLVN_g",
        "outputId": "fdfe2b71-4b90-4c3b-f7c9-50bc6e031713"
      },
      "execution_count": 13,
      "outputs": [
        {
          "output_type": "execute_result",
          "data": {
            "text/plain": [
              "                            Username      ID  AccessKey      FirstLoginTime\n",
              "4574  mystery_man                     814217         26 1900-01-01 07:08:00"
            ],
            "text/html": [
              "\n",
              "  <div id=\"df-1d7c551b-59be-4fab-93c6-bd0525f193d4\">\n",
              "    <div class=\"colab-df-container\">\n",
              "      <div>\n",
              "<style scoped>\n",
              "    .dataframe tbody tr th:only-of-type {\n",
              "        vertical-align: middle;\n",
              "    }\n",
              "\n",
              "    .dataframe tbody tr th {\n",
              "        vertical-align: top;\n",
              "    }\n",
              "\n",
              "    .dataframe thead th {\n",
              "        text-align: right;\n",
              "    }\n",
              "</style>\n",
              "<table border=\"1\" class=\"dataframe\">\n",
              "  <thead>\n",
              "    <tr style=\"text-align: right;\">\n",
              "      <th></th>\n",
              "      <th>Username</th>\n",
              "      <th>ID</th>\n",
              "      <th>AccessKey</th>\n",
              "      <th>FirstLoginTime</th>\n",
              "    </tr>\n",
              "  </thead>\n",
              "  <tbody>\n",
              "    <tr>\n",
              "      <th>4574</th>\n",
              "      <td>mystery_man</td>\n",
              "      <td>814217</td>\n",
              "      <td>26</td>\n",
              "      <td>1900-01-01 07:08:00</td>\n",
              "    </tr>\n",
              "  </tbody>\n",
              "</table>\n",
              "</div>\n",
              "      <button class=\"colab-df-convert\" onclick=\"convertToInteractive('df-1d7c551b-59be-4fab-93c6-bd0525f193d4')\"\n",
              "              title=\"Convert this dataframe to an interactive table.\"\n",
              "              style=\"display:none;\">\n",
              "        \n",
              "  <svg xmlns=\"http://www.w3.org/2000/svg\" height=\"24px\"viewBox=\"0 0 24 24\"\n",
              "       width=\"24px\">\n",
              "    <path d=\"M0 0h24v24H0V0z\" fill=\"none\"/>\n",
              "    <path d=\"M18.56 5.44l.94 2.06.94-2.06 2.06-.94-2.06-.94-.94-2.06-.94 2.06-2.06.94zm-11 1L8.5 8.5l.94-2.06 2.06-.94-2.06-.94L8.5 2.5l-.94 2.06-2.06.94zm10 10l.94 2.06.94-2.06 2.06-.94-2.06-.94-.94-2.06-.94 2.06-2.06.94z\"/><path d=\"M17.41 7.96l-1.37-1.37c-.4-.4-.92-.59-1.43-.59-.52 0-1.04.2-1.43.59L10.3 9.45l-7.72 7.72c-.78.78-.78 2.05 0 2.83L4 21.41c.39.39.9.59 1.41.59.51 0 1.02-.2 1.41-.59l7.78-7.78 2.81-2.81c.8-.78.8-2.07 0-2.86zM5.41 20L4 18.59l7.72-7.72 1.47 1.35L5.41 20z\"/>\n",
              "  </svg>\n",
              "      </button>\n",
              "      \n",
              "  <style>\n",
              "    .colab-df-container {\n",
              "      display:flex;\n",
              "      flex-wrap:wrap;\n",
              "      gap: 12px;\n",
              "    }\n",
              "\n",
              "    .colab-df-convert {\n",
              "      background-color: #E8F0FE;\n",
              "      border: none;\n",
              "      border-radius: 50%;\n",
              "      cursor: pointer;\n",
              "      display: none;\n",
              "      fill: #1967D2;\n",
              "      height: 32px;\n",
              "      padding: 0 0 0 0;\n",
              "      width: 32px;\n",
              "    }\n",
              "\n",
              "    .colab-df-convert:hover {\n",
              "      background-color: #E2EBFA;\n",
              "      box-shadow: 0px 1px 2px rgba(60, 64, 67, 0.3), 0px 1px 3px 1px rgba(60, 64, 67, 0.15);\n",
              "      fill: #174EA6;\n",
              "    }\n",
              "\n",
              "    [theme=dark] .colab-df-convert {\n",
              "      background-color: #3B4455;\n",
              "      fill: #D2E3FC;\n",
              "    }\n",
              "\n",
              "    [theme=dark] .colab-df-convert:hover {\n",
              "      background-color: #434B5C;\n",
              "      box-shadow: 0px 1px 3px 1px rgba(0, 0, 0, 0.15);\n",
              "      filter: drop-shadow(0px 1px 2px rgba(0, 0, 0, 0.3));\n",
              "      fill: #FFFFFF;\n",
              "    }\n",
              "  </style>\n",
              "\n",
              "      <script>\n",
              "        const buttonEl =\n",
              "          document.querySelector('#df-1d7c551b-59be-4fab-93c6-bd0525f193d4 button.colab-df-convert');\n",
              "        buttonEl.style.display =\n",
              "          google.colab.kernel.accessAllowed ? 'block' : 'none';\n",
              "\n",
              "        async function convertToInteractive(key) {\n",
              "          const element = document.querySelector('#df-1d7c551b-59be-4fab-93c6-bd0525f193d4');\n",
              "          const dataTable =\n",
              "            await google.colab.kernel.invokeFunction('convertToInteractive',\n",
              "                                                     [key], {});\n",
              "          if (!dataTable) return;\n",
              "\n",
              "          const docLinkHtml = 'Like what you see? Visit the ' +\n",
              "            '<a target=\"_blank\" href=https://colab.research.google.com/notebooks/data_table.ipynb>data table notebook</a>'\n",
              "            + ' to learn more about interactive tables.';\n",
              "          element.innerHTML = '';\n",
              "          dataTable['output_type'] = 'display_data';\n",
              "          await google.colab.output.renderOutput(dataTable, element);\n",
              "          const docLink = document.createElement('div');\n",
              "          docLink.innerHTML = docLinkHtml;\n",
              "          element.appendChild(docLink);\n",
              "        }\n",
              "      </script>\n",
              "    </div>\n",
              "  </div>\n",
              "  "
            ]
          },
          "metadata": {},
          "execution_count": 13
        }
      ]
    },
    {
      "cell_type": "markdown",
      "source": [
        "# **Episode 1** \n",
        "https://2022.coding-challenge.festo.com/puzzle/10"
      ],
      "metadata": {
        "id": "jKgKpjGAVnwx"
      }
    },
    {
      "cell_type": "code",
      "source": [
        "# our person class for easy mapping with a helper function for later (to determine picoBots in blood)\n",
        "from typing import List\n",
        "class Person:\n",
        "  name: str\n",
        "  id: int\n",
        "  homePlanet: str\n",
        "  bloodSample: List[str]\n",
        "\n",
        "  def __init__(self, name, id, homePlanet, bloodSample):\n",
        "    self.name = name\n",
        "    self.id = id\n",
        "    self.homePlanet = homePlanet\n",
        "    self.bloodSample = bloodSample\n",
        "    \n",
        "  # checks blood sample and it's transpose for the word pico\n",
        "  def hasPicoBots(self) -> bool:\n",
        "    rotated_bloodSample = []\n",
        "    for j in range(8):\n",
        "      rotated_bloodSample.append(\"\".join([self.bloodSample[i][j] for i in range(6)]))\n",
        "    # print(rotated_bloodSample)\n",
        "    return any(['pico' in line or 'ocip' in line for line in self.bloodSample]) \\\n",
        "    or any(['pico' in line or 'ocip' in line for line in rotated_bloodSample]) \n",
        "                                                                                       "
      ],
      "metadata": {
        "id": "KgfrdRBTknXj"
      },
      "execution_count": 14,
      "outputs": []
    },
    {
      "cell_type": "code",
      "source": [
        "# utility function to test different blood samples from clean and gen1 files\n",
        "def arg_cleaner(arg):\n",
        "  '''+--------+\n",
        "  |    pico|\n",
        "  | ppco ci|\n",
        "  |op c    |\n",
        "  |c c poco|\n",
        "  |pcp  cpi|\n",
        "  |ciccccoo|\n",
        "  +--------+'''\n",
        "  arg = [line.strip()[1:-1] for line in arg.split('\\n')[1:-1]]\n",
        "  return arg\n",
        "\n",
        "clean = Person(None, None, None, arg_cleaner('''+--------+\n",
        "  |    piio|\n",
        "  | ppco ci|\n",
        "  |op c    |\n",
        "  |c c poco|\n",
        "  |pcp  cpi|\n",
        "  |ciccccoo|\n",
        "  +--------+'''))\n",
        "hasBots = Person(None, None, None, arg_cleaner('''+--------+\n",
        "  |    pccc|\n",
        "  | ppcp ci|\n",
        "  |op ci   |\n",
        "  |c c coco|\n",
        "  |pcp ocpi|\n",
        "  |ciccccoo|\n",
        "  +--------+'''))\n",
        "print(clean.hasPicoBots())\n",
        "print(hasBots.hasPicoBots())\n"
      ],
      "metadata": {
        "colab": {
          "base_uri": "https://localhost:8080/"
        },
        "id": "pP9osB8M1sjQ",
        "outputId": "4ec886d9-4d60-4543-8c82-851b002a2030"
      },
      "execution_count": 15,
      "outputs": [
        {
          "output_type": "stream",
          "name": "stdout",
          "text": [
            "False\n",
            "True\n"
          ]
        }
      ]
    },
    {
      "cell_type": "markdown",
      "source": [
        "## **(1.1) Puzzle 1**"
      ],
      "metadata": {
        "id": "gPDgNf7di1Xj"
      }
    },
    {
      "cell_type": "code",
      "source": [
        "def read_population_data(fileName: str) -> List[Person]:\n",
        "  population = []\n",
        "  l = []\n",
        "  with open(fileName, 'r') as file:\n",
        "      l = file.readlines()\n",
        "\n",
        "  # loop over data 14 lines at a time to clean it up and store as person objects\n",
        "  for i in range(0, len(l), 14):\n",
        "    person = l[i:i + 14]\n",
        "    name = \" \".join(person[0].split()[1:]) # skip 'Name: ' \n",
        "    id = int(person[1].split()[1]) # skip 'ID: '\n",
        "    home = \" \".join(person[2].split()[2:]) # skip 'home planet: '\n",
        "    bs = [line.strip()[1:-1] for line in person[3:][2:8]] # read bloodSample as list of str, trimming whitespace removing | and +- lines (only storing chars)\n",
        "    population.append(Person(name, id, home, bs))\n",
        "\n",
        "  return population"
      ],
      "metadata": {
        "id": "5d8DVRV-c8s-"
      },
      "execution_count": 16,
      "outputs": []
    },
    {
      "cell_type": "code",
      "source": [
        "# compile population dataset\n",
        "population = read_population_data('population.txt')\n",
        "print(len(population)) # check/verify size of pop with file\n"
      ],
      "metadata": {
        "colab": {
          "base_uri": "https://localhost:8080/"
        },
        "id": "RElM2H5X5xje",
        "outputId": "335aa8e2-eca4-4c3f-fb7b-55f55d983786"
      },
      "execution_count": 17,
      "outputs": [
        {
          "output_type": "stream",
          "name": "stdout",
          "text": [
            "12732\n"
          ]
        }
      ]
    },
    {
      "cell_type": "code",
      "source": [
        "sum([person.id for person in population if person.hasPicoBots()]) # answer to puzzle 1"
      ],
      "metadata": {
        "colab": {
          "base_uri": "https://localhost:8080/"
        },
        "id": "9BuKjkNaxSQE",
        "outputId": "dc64f7e5-1f83-4fc1-d69f-a0e2afc1a805"
      },
      "execution_count": 18,
      "outputs": [
        {
          "output_type": "execute_result",
          "data": {
            "text/plain": [
              "2288948789"
            ]
          },
          "metadata": {},
          "execution_count": 18
        }
      ]
    },
    {
      "cell_type": "code",
      "source": [
        "len([person.id for person in population if person.hasPicoBots()])"
      ],
      "metadata": {
        "colab": {
          "base_uri": "https://localhost:8080/"
        },
        "id": "LuQoCyHTTNeq",
        "outputId": "08b17d70-0654-4a81-e178-3dfa719c4248"
      },
      "execution_count": 166,
      "outputs": [
        {
          "output_type": "execute_result",
          "data": {
            "text/plain": [
              "422"
            ]
          },
          "metadata": {},
          "execution_count": 166
        }
      ]
    },
    {
      "cell_type": "markdown",
      "source": [
        "## **(1.2) Puzzle 2**"
      ],
      "metadata": {
        "id": "1sEsn_duj6Kt"
      }
    },
    {
      "cell_type": "code",
      "source": [
        "import numpy as np\n",
        "import matplotlib.pyplot as plt\n",
        "from mpl_toolkits.mplot3d import Axes3D\n",
        "\n",
        "# make a dict for galaxy_map with (name, coordinates)\n",
        "galaxy_map = {}\n",
        "x, y, z = [], [], []\n",
        "\n",
        "with open('galaxy_map.txt') as glx:\n",
        "  lines = [line.split(':') for line in glx.readlines()]\n",
        "  for line in lines:\n",
        "    planet = line[0].strip()\n",
        "    coordinates = tuple(map(int, line[1].strip()[1:-1].split(',')))\n",
        "    galaxy_map[planet] = coordinates \n",
        "    x.append(coordinates[0])\n",
        "    y.append(coordinates[1])\n",
        "    z.append(coordinates[2])\n",
        "\n",
        "# plot galaxy to visualize outliers\n",
        "fig = plt.figure(figsize=(8, 8))\n",
        "ax = fig.add_subplot(111, projection='3d')\n",
        "\n",
        "ax.scatter(x, y, z)\n",
        "plt.show()"
      ],
      "metadata": {
        "colab": {
          "base_uri": "https://localhost:8080/",
          "height": 466
        },
        "id": "GvOGi5Oz9F7R",
        "outputId": "248074d5-2eda-4887-c303-d92ec24e1bc5"
      },
      "execution_count": 19,
      "outputs": [
        {
          "output_type": "display_data",
          "data": {
            "text/plain": [
              "<Figure size 576x576 with 1 Axes>"
            ],
            "image/png": "[encoded data removed]"
          },
          "metadata": {
            "needs_background": "light"
          }
        }
      ]
    },
    {
      "cell_type": "code",
      "source": [
        "# ! pip install scikit-spatial\n",
        "from skspatial.objects import Plane\n",
        "from skspatial.objects import Points\n",
        "from skspatial.plotting import plot_3d\n",
        "\n",
        "# find best fitting plane for our coordinates\n",
        "points = Points([list(v) for k, v in galaxy_map.items()])\n",
        "plane = Plane.best_fit(points)\n",
        "distances = dict([(k, plane.distance_point(list(v))) for k, v in galaxy_map.items()])\n",
        "outliers = dict([(k, v) for k, v in distances.items() if v > 2]) # outlier limit specified in question\n",
        "outliers"
      ],
      "metadata": {
        "colab": {
          "base_uri": "https://localhost:8080/"
        },
        "id": "tEOUNH3OXSJp",
        "outputId": "2476cab1-7b62-4746-fa57-8771ec13f62b"
      },
      "execution_count": 22,
      "outputs": [
        {
          "output_type": "execute_result",
          "data": {
            "text/plain": [
              "{'Algo Major': 17.094076994006272,\n",
              " 'Alpha Andron': 18.570147347806227,\n",
              " 'Alpha Aurnus': 15.30644512387339,\n",
              " 'Alpha Carsa': 16.558030382638748,\n",
              " 'Alpha Lupisci': 17.01317619023222,\n",
              " 'Alpha Menax Minor': 14.679062809785268,\n",
              " 'Andros Major': 18.15572354742764,\n",
              " 'Aquarth': 17.330929522841473,\n",
              " 'Beta Dela IV': 19.695138612851604,\n",
              " 'Carda III': 15.722061712776394,\n",
              " 'Cerenis V': 18.505882337039477,\n",
              " 'Cralis III': 15.23428215897532,\n",
              " 'Dralis II': 17.43018479591629,\n",
              " 'Earia': 20.09897682279569,\n",
              " 'Equila Minor': 17.092541439010297,\n",
              " 'Erinix': 17.83350330363349,\n",
              " 'Forale': 18.473352389560475,\n",
              " 'Gamma Bores': 15.069918330075517,\n",
              " 'Gamma Carinus Major': 17.048515571908123,\n",
              " 'Minoces': 16.853352118091596,\n",
              " 'Phoeni V': 17.54729203485332,\n",
              " 'Pisci': 16.763092834422906,\n",
              " 'Vens IV': 18.294465731222203,\n",
              " 'Venta': 17.39189067372093,\n",
              " 'Viria II': 19.426604266384306}"
            ]
          },
          "metadata": {},
          "execution_count": 22
        }
      ]
    },
    {
      "cell_type": "code",
      "source": [
        "sum([person.id for person in population if person.homePlanet in outliers.keys()]) # answer to puzzle 2"
      ],
      "metadata": {
        "colab": {
          "base_uri": "https://localhost:8080/"
        },
        "id": "06OqFjfCXqPp",
        "outputId": "f2cc096a-ef88-41b7-8c13-05ef1cf6f104"
      },
      "execution_count": 23,
      "outputs": [
        {
          "output_type": "execute_result",
          "data": {
            "text/plain": [
              "2438905648"
            ]
          },
          "metadata": {},
          "execution_count": 23
        }
      ]
    },
    {
      "cell_type": "markdown",
      "source": [
        "## **(1.3) Puzzle 3**"
      ],
      "metadata": {
        "id": "Mmn1LJIAlEH3"
      }
    },
    {
      "cell_type": "code",
      "source": [
        "# sequence of places retrieved from Jelly Jones' fitbit watch\n",
        "jelly_jones_sequence = ['Junkyard', 'Pod Racing Track', 'Pod Racing Track', 'Palace', 'Factory']"
      ],
      "metadata": {
        "id": "NJ0eXXricHKu"
      },
      "execution_count": 24,
      "outputs": []
    },
    {
      "cell_type": "code",
      "source": [
        "# read data from security_log\n",
        "with open('security_log.txt', 'r') as file:\n",
        "  lines = file.readlines()\n",
        "\n",
        "\n",
        "# into a structure with { people: [places]} (places are inserted in order file order)\n",
        "\n",
        "# convert 24hr to minute of day\n",
        "def minute_of_day(time):\n",
        "  hours, minutes = list(map(int, time.split(':')))\n",
        "  return hours * 60 + minutes\n",
        "\n",
        "people = {}\n",
        "blacklist = set()\n",
        "i = 0\n",
        "while i < len(lines):\n",
        "  line = lines[i]\n",
        "  if 'Place' in line:\n",
        "    last_place = line.split(':')[1].strip()\n",
        "  elif 'in:' in line or 'out:' in line: # in/out list colon added to avoid names like 'edwin'\n",
        "    last_people = line.split(':')[1].strip().split(', ')  \n",
        "    for person in last_people:\n",
        "      if person not in people:\n",
        "        people[person] = {}\n",
        "      people[person][last_time] = last_place\n",
        "\n",
        "      # we are interested in people only if they visited JUST the places from jelly_jones_sequence\n",
        "      if last_place not in jelly_jones_sequence:\n",
        "        blacklist.add(person)\n",
        "  elif ':' in line: # time\n",
        "    last_time = minute_of_day(line.strip())\n",
        "  i += 1\n",
        "\n",
        "len(people)"
      ],
      "metadata": {
        "colab": {
          "base_uri": "https://localhost:8080/"
        },
        "id": "8UOHqSQzldLX",
        "outputId": "d9a12f7a-8267-4d14-da20-9550d9c0d131"
      },
      "execution_count": 25,
      "outputs": [
        {
          "output_type": "execute_result",
          "data": {
            "text/plain": [
              "12732"
            ]
          },
          "metadata": {},
          "execution_count": 25
        }
      ]
    },
    {
      "cell_type": "code",
      "source": [
        "# people who only visited the places we want\n",
        "person_of_interest = [person for person in people if person not in blacklist]\n",
        "\n",
        "# next we go over the given places and determine people who visited them in the desired entry-exit sequence\n",
        "target_sequence = []\n",
        "for item in zip(jelly_jones_sequence, jelly_jones_sequence): # generate entry exit sequence for fitness tracker \n",
        "  target_sequence.append(item[0])\n",
        "  target_sequence.append(item[1])\n",
        "\n",
        "# peoples visits ordered (by time) for Monday\n",
        "routines = {}\n",
        "for person in person_of_interest:\n",
        "  routines[person] = [item[1] for item in sorted(people[person].items())] # ordered by entry and exit times\n",
        "\n",
        "# people whose visit sequence and frequency matches with desired sequence\n",
        "populationWithMatchingRoutines = [person for person in routines if routines[person] == target_sequence]\n",
        "len(populationWithMatchingRoutines)"
      ],
      "metadata": {
        "colab": {
          "base_uri": "https://localhost:8080/"
        },
        "id": "iU8q3va-lpwf",
        "outputId": "43a156da-6dca-4284-9584-f8c85b49a3f7"
      },
      "execution_count": 169,
      "outputs": [
        {
          "output_type": "execute_result",
          "data": {
            "text/plain": [
              "607"
            ]
          },
          "metadata": {},
          "execution_count": 169
        }
      ]
    },
    {
      "cell_type": "code",
      "source": [
        "sum([person.id for person in population if person.name in populationWithMatchingRoutines]) # answer to puzzle 3"
      ],
      "metadata": {
        "colab": {
          "base_uri": "https://localhost:8080/"
        },
        "id": "bvian5OC2yQ7",
        "outputId": "a213ac44-3150-486e-e489-925b9c243cce"
      },
      "execution_count": 170,
      "outputs": [
        {
          "output_type": "execute_result",
          "data": {
            "text/plain": [
              "3362264068"
            ]
          },
          "metadata": {},
          "execution_count": 170
        }
      ]
    },
    {
      "cell_type": "markdown",
      "source": [
        "## Episode 1 Solution"
      ],
      "metadata": {
        "id": "cFj52QkTXG3F"
      }
    },
    {
      "cell_type": "code",
      "source": [
        "[person.name for person in population \\\n",
        " if person.hasPicoBots() and \\\n",
        " person.homePlanet in outliers.keys() and \\\n",
        " person.name in populationWithMatchingRoutines]"
      ],
      "metadata": {
        "colab": {
          "base_uri": "https://localhost:8080/"
        },
        "id": "bNuHJQ4b_655",
        "outputId": "252490cd-d665-4221-efa2-ad87adcdedd1"
      },
      "execution_count": 167,
      "outputs": [
        {
          "output_type": "execute_result",
          "data": {
            "text/plain": [
              "['Tun Kazem']"
            ]
          },
          "metadata": {},
          "execution_count": 167
        }
      ]
    },
    {
      "cell_type": "markdown",
      "source": [
        "# **Episode 2** \n",
        "\n",
        "https://2022.coding-challenge.festo.com/puzzle/20"
      ],
      "metadata": {
        "id": "V0SsSx_6XvJL"
      }
    },
    {
      "cell_type": "code",
      "source": [
        "\n",
        "# compile population dataset using our previously defined function\n",
        "population = read_population_data('population.txt')\n",
        "\n",
        "print(len(population)) # check/verify size of pop with file"
      ],
      "metadata": {
        "colab": {
          "base_uri": "https://localhost:8080/"
        },
        "id": "cq8OefZeXZjz",
        "outputId": "ec31d864-5b46-45d6-edf3-c815db972f55"
      },
      "execution_count": 29,
      "outputs": [
        {
          "output_type": "stream",
          "name": "stdout",
          "text": [
            "12732\n"
          ]
        }
      ]
    },
    {
      "cell_type": "markdown",
      "source": [
        "## **(2.1) Puzzle 1**"
      ],
      "metadata": {
        "id": "JQVpwRnqapHF"
      }
    },
    {
      "cell_type": "code",
      "source": [
        "# now we add a function to our person class to detect gen2 picobots\n",
        "def hasGen2PicoBots(self) -> bool:\n",
        "  # we can only go up, down, left, right, while respecting edges\n",
        "  get_neighbors = lambda i, j: [n for n in [(i-1, j), (i+1, j), (i, j-1), (i, j+1)] if n[0] >= 0 and n[0] < 6 and n[1] >= 0 and n[1] < 8] \n",
        "  \n",
        "  # recursive solution checking for remaining 'picoico' string in neighbors\n",
        "  def hasGen2PicoBotsHelper(bloodSample, i, j, target_string) -> bool:\n",
        "    if len(target_string) == 0: # found complete chain\n",
        "      return True\n",
        "\n",
        "    if bloodSample[i][j] != target_string[0]: # current target letter not found chain is broken\n",
        "      return False\n",
        "    neighbors = get_neighbors(i, j) # [(n[0], n[1])]\n",
        "    return any([hasGen2PicoBotsHelper(bloodSample, n[0], n[1], target_string[1:]) for n in neighbors])\n",
        "\n",
        "\n",
        "  for i in range(len(self.bloodSample)):\n",
        "    for j in range(len(self.bloodSample[i])):\n",
        "      if hasGen2PicoBotsHelper(self.bloodSample, i, j, 'picoico'):\n",
        "        return True\n",
        "\n",
        "  return False\n",
        "        \n",
        "\n",
        "Person.hasGen2PicoBots = hasGen2PicoBots"
      ],
      "metadata": {
        "id": "nq6m3MjhdKY4"
      },
      "execution_count": 30,
      "outputs": []
    },
    {
      "cell_type": "code",
      "source": [
        "# check if our function is working by taking data from clean/infected datasets and verifying for all\n",
        "def run_gen2_blood_test(files) -> bool:\n",
        "  clean = files[0]\n",
        "  dirty = files[1]\n",
        "  \n",
        "  with open(clean, 'r') as clean_file:\n",
        "    lines = clean_file.readlines()\n",
        "\n",
        "  clean_samples = []\n",
        "  for i in range(0, len(lines), 11):\n",
        "      clean_samples.append(arg_cleaner(\"\".join(lines[i+1:i+11]).strip()))\n",
        "  all_clean = not any([Person(None, None, None, sample).hasGen2PicoBots() for sample in clean_samples])\n",
        "  \n",
        "  with open(dirty, 'r') as dirty_file:\n",
        "    lines = dirty_file.readlines()\n",
        "\n",
        "  dirty_samples = []\n",
        "  for i in range(0, len(lines), 11):\n",
        "      dirty_samples.append(arg_cleaner(\"\".join(lines[i+1:i+11]).strip()))\n",
        "  all_dirty = all([Person(None, None, None, sample).hasGen2PicoBots() for sample in dirty_samples])\n",
        "  return all_clean and all_dirty\n",
        "\n",
        "\n",
        "# 1st file should be all false on function, 2nd all true\n",
        "run_gen2_blood_test(['lab_blood_clean.txt', 'lab_blood_gen2.txt']) "
      ],
      "metadata": {
        "colab": {
          "base_uri": "https://localhost:8080/"
        },
        "id": "OL3tkSNmdnDM",
        "outputId": "e296e5f1-9aae-42b4-9075-31146d22f895"
      },
      "execution_count": 31,
      "outputs": [
        {
          "output_type": "execute_result",
          "data": {
            "text/plain": [
              "True"
            ]
          },
          "metadata": {},
          "execution_count": 31
        }
      ]
    },
    {
      "cell_type": "code",
      "source": [
        "populationWithGen2PicoBots = [person for person in population if person.hasGen2PicoBots()]\n",
        "sum([person.id for person in populationWithGen2PicoBots]) # answer to puzzle 1"
      ],
      "metadata": {
        "colab": {
          "base_uri": "https://localhost:8080/"
        },
        "id": "iTxScRRWljoc",
        "outputId": "bf9d667e-4885-429e-f0cc-131b7c3f3b2b"
      },
      "execution_count": 32,
      "outputs": [
        {
          "output_type": "execute_result",
          "data": {
            "text/plain": [
              "2105304392"
            ]
          },
          "metadata": {},
          "execution_count": 32
        }
      ]
    },
    {
      "cell_type": "code",
      "source": [
        "len(populationWithGen2PicoBots)"
      ],
      "metadata": {
        "colab": {
          "base_uri": "https://localhost:8080/"
        },
        "id": "w4ptzdCZuNDw",
        "outputId": "a7c1fe57-265b-463c-937c-fa7f746c6525"
      },
      "execution_count": 33,
      "outputs": [
        {
          "output_type": "execute_result",
          "data": {
            "text/plain": [
              "393"
            ]
          },
          "metadata": {},
          "execution_count": 33
        }
      ]
    },
    {
      "cell_type": "markdown",
      "source": [
        "## **(2.2) Puzzle 2**"
      ],
      "metadata": {
        "id": "ImvJkVBEu1Ez"
      }
    },
    {
      "cell_type": "code",
      "source": [
        "# make a dict for galaxy_map with (name, coordinates)\n",
        "\n",
        "galaxy_map = {}\n",
        "x, y, z = [], [], []\n",
        "\n",
        "with open('galaxy_map.txt') as glx:\n",
        "  lines = [line.split(':') for line in glx.readlines()]\n",
        "  for line in lines:\n",
        "    planet = line[0].strip()\n",
        "    coordinates = tuple(map(int, line[1].strip()[1:-1].split(',')))\n",
        "    galaxy_map[planet] = coordinates"
      ],
      "metadata": {
        "id": "MwHnjoUmurDk"
      },
      "execution_count": 151,
      "outputs": []
    },
    {
      "cell_type": "code",
      "source": [
        "print(len(galaxy_map.keys())) # verify we have all planets"
      ],
      "metadata": {
        "colab": {
          "base_uri": "https://localhost:8080/"
        },
        "id": "vwmQD8uqwvZM",
        "outputId": "b4d2ea14-dac1-4a76-8ccb-46152bd6d836"
      },
      "execution_count": 152,
      "outputs": [
        {
          "output_type": "stream",
          "name": "stdout",
          "text": [
            "1046\n"
          ]
        }
      ]
    },
    {
      "cell_type": "code",
      "source": [
        "# read trade route data, only consider trade routes that are marked as Ok\n",
        "trade_routes = []\n",
        "\n",
        "with open('trade_routes.txt', 'r') as tr: \n",
        "  lines = tr.readlines()\n",
        "  for line in lines:\n",
        "    if 'Ok' in line:\n",
        "      planets = line.split(':')[0]\n",
        "      planets = tuple(map(lambda p: p.strip(), planets.strip().split('-')))\n",
        "      trade_routes.append((planets[0], planets[1]))\n",
        "trade_routes"
      ],
      "metadata": {
        "colab": {
          "base_uri": "https://localhost:8080/"
        },
        "id": "H2qoXTLvwyma",
        "outputId": "4283d39a-8be4-435f-bd51-a3a2053431d2"
      },
      "execution_count": 147,
      "outputs": [
        {
          "output_type": "execute_result",
          "data": {
            "text/plain": [
              "[('Scurus V', 'Tauries VII'), ('Beta Drado VI', 'Uranis')]"
            ]
          },
          "metadata": {},
          "execution_count": 147
        }
      ]
    },
    {
      "cell_type": "code",
      "source": [
        "import numpy as np\n",
        "import math\n",
        "\n",
        "# helper function to find distance between point and segment\n",
        "def lineseg_dist(p, a, b):\n",
        "    d = np.divide(b - a, np.linalg.norm(b - a))\n",
        "    s = np.dot(a - p, d)\n",
        "    t = np.dot(p - b, d)\n",
        "    h = np.maximum.reduce([s, t, 0])\n",
        "    c = np.cross(p - a, d)\n",
        "    return np.hypot(h, np.linalg.norm(c))\n",
        "\n",
        "planetsCloseToTradeRoutes = set()\n",
        "for planet in galaxy_map:\n",
        "  distances_to_routes = []\n",
        "  for route in trade_routes:\n",
        "    # check nearest distance of this planet to trade route between planets a and b\n",
        "    p = np.asarray(galaxy_map[planet]) \n",
        "    a = np.asarray(galaxy_map[route[0]])\n",
        "    b = np.asarray(galaxy_map[route[1]])\n",
        "    distances_to_routes.append(lineseg_dist(p, a, b))\n",
        "  if all([d <= 10 for d in distances_to_routes]): # if this planet is close to all the Ok trade routes\n",
        "    planetsCloseToTradeRoutes.add(planet)\n",
        "print(len(planetsCloseToTradeRoutes))\n",
        "planetsCloseToTradeRoutes"
      ],
      "metadata": {
        "colab": {
          "base_uri": "https://localhost:8080/"
        },
        "id": "F52dvBv4yAKv",
        "outputId": "595bfe58-728e-4a40-d6d9-f53c103aba64"
      },
      "execution_count": 153,
      "outputs": [
        {
          "output_type": "stream",
          "name": "stdout",
          "text": [
            "19\n"
          ]
        },
        {
          "output_type": "execute_result",
          "data": {
            "text/plain": [
              "{'Alpha Algolum V',\n",
              " 'Alpha Aurus',\n",
              " 'Alpha Cena',\n",
              " 'Antlis VI',\n",
              " 'Arius IV',\n",
              " 'Beta Pupis',\n",
              " 'Cane IV',\n",
              " 'Cephina',\n",
              " 'Cetices',\n",
              " 'Charida',\n",
              " 'Crales',\n",
              " 'Deleo',\n",
              " 'Gamma Cani VII',\n",
              " 'Gemina',\n",
              " 'Orius V',\n",
              " 'Perpis',\n",
              " 'Scurus V',\n",
              " 'Venis',\n",
              " 'Vulutor'}"
            ]
          },
          "metadata": {},
          "execution_count": 153
        }
      ]
    },
    {
      "cell_type": "code",
      "source": [
        "populationCloseToTradeRoutes = [person for person in population if person.homePlanet in planetsCloseToTradeRoutes]\n",
        "sum([person.id for person in populationCloseToTradeRoutes]) # answer to puzzle 2"
      ],
      "metadata": {
        "colab": {
          "base_uri": "https://localhost:8080/"
        },
        "id": "8GBHohlvycb6",
        "outputId": "f35034bd-7d90-4593-beb5-eef8e7c1eedc"
      },
      "execution_count": 159,
      "outputs": [
        {
          "output_type": "execute_result",
          "data": {
            "text/plain": [
              "966181533"
            ]
          },
          "metadata": {},
          "execution_count": 159
        }
      ]
    },
    {
      "cell_type": "code",
      "source": [
        "len(populationCloseToTradeRoutes)"
      ],
      "metadata": {
        "colab": {
          "base_uri": "https://localhost:8080/"
        },
        "id": "_IYMq2kFDya9",
        "outputId": "53566952-f9e9-4a46-dce1-ade52606d4e0"
      },
      "execution_count": 160,
      "outputs": [
        {
          "output_type": "execute_result",
          "data": {
            "text/plain": [
              "167"
            ]
          },
          "metadata": {},
          "execution_count": 160
        }
      ]
    },
    {
      "cell_type": "markdown",
      "source": [
        "## **(2.3) Puzzle 3**"
      ],
      "metadata": {
        "id": "QAKhKVtSQruP"
      }
    },
    {
      "cell_type": "code",
      "source": [
        "# we need to check how long every person stayed at a location on Monday from the security log\n",
        "# every stay at a location can be either free time or work time (number_of_minutes = amount_earned)\n",
        "\n",
        "target_salary = 79 # from the question\n",
        "\n",
        "# read data from security_log\n",
        "with open('security_log.txt', 'r') as file:\n",
        "  lines = file.readlines()\n",
        "\n",
        "\n",
        "# put into a structure with { people: { duration_at_a_place, ... } } \n",
        "# for the same place, a person has to first enter and then exit the location, taking the difference between both those times\n",
        "# we get the duration for that location, the type of place does not matter as salary is the same everywhere\n",
        "# so we can discard the place label and keep only a list of durations\n",
        "\n",
        "people = {}\n",
        "i = 0\n",
        "while i < len(lines):\n",
        "  line = lines[i]\n",
        "\n",
        "  if 'Place' in line:\n",
        "    last_place = line.split(':')[1].strip()\n",
        "  elif 'in:' in line or 'out:' in line: # in/out list, colon added to avoid names like 'edwin'\n",
        "    last_people = line.split(':')[1].strip().split(', ')  \n",
        "    for person in last_people:\n",
        "      if person not in people: # person entering this place for the first time\n",
        "        people[person] = [(last_time, )]\n",
        "        # person exiting this place\n",
        "      elif len(people[person][-1]) == 1:  # odd means last index has an entry time, add exit time\n",
        "        people[person][-1] = (people[person][-1][0], last_time)\n",
        "      else: # even, last index is full with entry and exist, add new entry time  \n",
        "        people[person].append((last_time, )) # update last position in list\n",
        "\n",
        "  elif ':' in line: # time\n",
        "    last_time = minute_of_day(line.strip())\n",
        "  i += 1\n",
        "len(people)"
      ],
      "metadata": {
        "colab": {
          "base_uri": "https://localhost:8080/"
        },
        "id": "VUrvWCDaSUY-",
        "outputId": "ea7efdaf-b3b9-4045-ba7a-27a25be71087"
      },
      "execution_count": 310,
      "outputs": [
        {
          "output_type": "execute_result",
          "data": {
            "text/plain": [
              "12732"
            ]
          },
          "metadata": {},
          "execution_count": 310
        }
      ]
    },
    {
      "cell_type": "code",
      "source": [
        "people['Shakuntala Lee'] # verify location duration history is correct with file"
      ],
      "metadata": {
        "colab": {
          "base_uri": "https://localhost:8080/"
        },
        "id": "U3N9_k4LXfyX",
        "outputId": "990eefa2-4281-4512-97d0-6c645b6e10d9"
      },
      "execution_count": 311,
      "outputs": [
        {
          "output_type": "execute_result",
          "data": {
            "text/plain": [
              "[(338, 361), (978, 1026), (400, 450), (675, 808)]"
            ]
          },
          "metadata": {},
          "execution_count": 311
        }
      ]
    },
    {
      "cell_type": "code",
      "source": [
        "# now that we have information about how long everyone stayed at a place on Monday we can get work on the durations\n",
        "# we simply find a possible subset of the durations for a person that sums up to 79\n",
        "# if such a subset exists they could have earned 79 GAL on Monday.\n",
        "\n",
        "\n",
        "# NOTE: this is the subset sum problem (https://en.wikipedia.org/wiki/Subset_sum_problem) and can be solved using DP\n",
        "# however since there are only a max of 12 locations, if a person visited all of them that would have 2^12 possible subsets\n",
        "# which is tractable with brute force\n",
        "# for the DP solution see: https://www.geeksforgeeks.org/python-program-for-subset-sum-problem-dp-25/\n",
        "\n",
        "from itertools import chain, combinations\n",
        "\n",
        "def powerset(iterable):\n",
        "    \"powerset([1,2,3]) --> () (1,) (2,) (3,) (1,2) (1,3) (2,3) (1,2,3)\"\n",
        "    s = list(iterable)\n",
        "    return chain.from_iterable(combinations(s, r) for r in range(len(s)+1))\n",
        "\n",
        "\n",
        "# first we get only the numeric durations for every person's day\n",
        "# then generate powerset of those durations\n",
        "# checking the sum for each subset\n",
        "# at the first sum that matches the target, we stop\n",
        "populationWithPossibleEarning = set()\n",
        "for person in people: # in order to optimize subset calculation we get rid of durations which cannot contribute to the answer\n",
        "  durations = [n for n in [b - a for a, b in people[person]] if n <= target_salary]\n",
        "  if any([sum(subset) == target_salary for subset in powerset(durations)]):\n",
        "    populationWithPossibleEarning.add(person)\n",
        "  \n",
        "\n",
        "len(populationWithPossibleEarning)"
      ],
      "metadata": {
        "colab": {
          "base_uri": "https://localhost:8080/"
        },
        "id": "Bh4cBGPPXRi8",
        "outputId": "a6ad5640-40ec-4b53-e8ff-d6c52f6f1496"
      },
      "execution_count": 318,
      "outputs": [
        {
          "output_type": "execute_result",
          "data": {
            "text/plain": [
              "601"
            ]
          },
          "metadata": {},
          "execution_count": 318
        }
      ]
    },
    {
      "cell_type": "code",
      "source": [
        "sum([person.id for person in population if person.name in populationWithPossibleEarning]) # answer to puzzle 3"
      ],
      "metadata": {
        "colab": {
          "base_uri": "https://localhost:8080/"
        },
        "id": "EWEWA7oce8a9",
        "outputId": "1ab7b231-9b7d-431d-ec44-1649b4df0e8d"
      },
      "execution_count": 325,
      "outputs": [
        {
          "output_type": "execute_result",
          "data": {
            "text/plain": [
              "3288804647"
            ]
          },
          "metadata": {},
          "execution_count": 325
        }
      ]
    },
    {
      "cell_type": "markdown",
      "source": [
        "## Episode 2 Solution"
      ],
      "metadata": {
        "id": "LHbUVUHaSYzc"
      }
    },
    {
      "cell_type": "code",
      "source": [
        "[person.name for person in populationCloseToTradeRoutes if person.hasGen2PicoBots() and person.name in populationWithPossibleEarning]"
      ],
      "metadata": {
        "colab": {
          "base_uri": "https://localhost:8080/"
        },
        "id": "b5CToQF2SZyL",
        "outputId": "b58cd820-9fef-44a5-85c4-ab212dd935ad"
      },
      "execution_count": 324,
      "outputs": [
        {
          "output_type": "execute_result",
          "data": {
            "text/plain": [
              "['Jianwei Yakubu']"
            ]
          },
          "metadata": {},
          "execution_count": 324
        }
      ]
    },
    {
      "cell_type": "code",
      "source": [
        ""
      ],
      "metadata": {
        "id": "HIfEGjJjvrxR"
      },
      "execution_count": null,
      "outputs": []
    }
  ]
}