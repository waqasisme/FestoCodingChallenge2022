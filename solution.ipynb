{
  "nbformat": 4,
  "nbformat_minor": 0,
  "metadata": {
    "colab": {
      "name": "Untitled0.ipynb",
      "provenance": [],
      "toc_visible": true,
      "authorship_tag": "ABX9TyPOkAoHV5LzuMWEEp9lDm10",
      "include_colab_link": true
    },
    "kernelspec": {
      "name": "python3",
      "display_name": "Python 3"
    },
    "language_info": {
      "name": "python"
    }
  },
  "cells": [
    {
      "cell_type": "markdown",
      "metadata": {
        "id": "view-in-github",
        "colab_type": "text"
      },
      "source": [
        "<a href=\"https://colab.research.google.com/github/waqasisme/FestoCodingChallenge2022/blob/main/solution.ipynb\" target=\"_parent\"><img src=\"https://colab.research.google.com/assets/colab-badge.svg\" alt=\"Open In Colab\"/></a>"
      ]
    },
    {
      "cell_type": "markdown",
      "source": [
        "**CodeFest 22**\n",
        "# **Introduction**\n"
      ],
      "metadata": {
        "id": "8hEzQGhIhu5i"
      }
    },
    {
      "cell_type": "code",
      "execution_count": 284,
      "metadata": {
        "colab": {
          "base_uri": "https://localhost:8080/",
          "height": 206
        },
        "id": "wU4fsF7aVaNm",
        "outputId": "f8e11a5a-0fd5-43b8-98a8-f98b5992b95a"
      },
      "outputs": [
        {
          "output_type": "execute_result",
          "data": {
            "text/plain": [
              "                         Username      ID  AccessKey FirstLoginTime\n",
              "0  immenseResearch                 500025        211          08:04\n",
              "1  great.night                     648341          6          09:04\n",
              "2  gray_basket                     478873         82          07:15\n",
              "3  bubblyPerson                    294887        208          09:03\n",
              "4  WorriedLine                     489479        231          07:47"
            ],
            "text/html": [
              "\n",
              "  <div id=\"df-bb1f5fb5-2f74-4830-904d-52f391668cc0\">\n",
              "    <div class=\"colab-df-container\">\n",
              "      <div>\n",
              "<style scoped>\n",
              "    .dataframe tbody tr th:only-of-type {\n",
              "        vertical-align: middle;\n",
              "    }\n",
              "\n",
              "    .dataframe tbody tr th {\n",
              "        vertical-align: top;\n",
              "    }\n",
              "\n",
              "    .dataframe thead th {\n",
              "        text-align: right;\n",
              "    }\n",
              "</style>\n",
              "<table border=\"1\" class=\"dataframe\">\n",
              "  <thead>\n",
              "    <tr style=\"text-align: right;\">\n",
              "      <th></th>\n",
              "      <th>Username</th>\n",
              "      <th>ID</th>\n",
              "      <th>AccessKey</th>\n",
              "      <th>FirstLoginTime</th>\n",
              "    </tr>\n",
              "  </thead>\n",
              "  <tbody>\n",
              "    <tr>\n",
              "      <th>0</th>\n",
              "      <td>immenseResearch</td>\n",
              "      <td>500025</td>\n",
              "      <td>211</td>\n",
              "      <td>08:04</td>\n",
              "    </tr>\n",
              "    <tr>\n",
              "      <th>1</th>\n",
              "      <td>great.night</td>\n",
              "      <td>648341</td>\n",
              "      <td>6</td>\n",
              "      <td>09:04</td>\n",
              "    </tr>\n",
              "    <tr>\n",
              "      <th>2</th>\n",
              "      <td>gray_basket</td>\n",
              "      <td>478873</td>\n",
              "      <td>82</td>\n",
              "      <td>07:15</td>\n",
              "    </tr>\n",
              "    <tr>\n",
              "      <th>3</th>\n",
              "      <td>bubblyPerson</td>\n",
              "      <td>294887</td>\n",
              "      <td>208</td>\n",
              "      <td>09:03</td>\n",
              "    </tr>\n",
              "    <tr>\n",
              "      <th>4</th>\n",
              "      <td>WorriedLine</td>\n",
              "      <td>489479</td>\n",
              "      <td>231</td>\n",
              "      <td>07:47</td>\n",
              "    </tr>\n",
              "  </tbody>\n",
              "</table>\n",
              "</div>\n",
              "      <button class=\"colab-df-convert\" onclick=\"convertToInteractive('df-bb1f5fb5-2f74-4830-904d-52f391668cc0')\"\n",
              "              title=\"Convert this dataframe to an interactive table.\"\n",
              "              style=\"display:none;\">\n",
              "        \n",
              "  <svg xmlns=\"http://www.w3.org/2000/svg\" height=\"24px\"viewBox=\"0 0 24 24\"\n",
              "       width=\"24px\">\n",
              "    <path d=\"M0 0h24v24H0V0z\" fill=\"none\"/>\n",
              "    <path d=\"M18.56 5.44l.94 2.06.94-2.06 2.06-.94-2.06-.94-.94-2.06-.94 2.06-2.06.94zm-11 1L8.5 8.5l.94-2.06 2.06-.94-2.06-.94L8.5 2.5l-.94 2.06-2.06.94zm10 10l.94 2.06.94-2.06 2.06-.94-2.06-.94-.94-2.06-.94 2.06-2.06.94z\"/><path d=\"M17.41 7.96l-1.37-1.37c-.4-.4-.92-.59-1.43-.59-.52 0-1.04.2-1.43.59L10.3 9.45l-7.72 7.72c-.78.78-.78 2.05 0 2.83L4 21.41c.39.39.9.59 1.41.59.51 0 1.02-.2 1.41-.59l7.78-7.78 2.81-2.81c.8-.78.8-2.07 0-2.86zM5.41 20L4 18.59l7.72-7.72 1.47 1.35L5.41 20z\"/>\n",
              "  </svg>\n",
              "      </button>\n",
              "      \n",
              "  <style>\n",
              "    .colab-df-container {\n",
              "      display:flex;\n",
              "      flex-wrap:wrap;\n",
              "      gap: 12px;\n",
              "    }\n",
              "\n",
              "    .colab-df-convert {\n",
              "      background-color: #E8F0FE;\n",
              "      border: none;\n",
              "      border-radius: 50%;\n",
              "      cursor: pointer;\n",
              "      display: none;\n",
              "      fill: #1967D2;\n",
              "      height: 32px;\n",
              "      padding: 0 0 0 0;\n",
              "      width: 32px;\n",
              "    }\n",
              "\n",
              "    .colab-df-convert:hover {\n",
              "      background-color: #E2EBFA;\n",
              "      box-shadow: 0px 1px 2px rgba(60, 64, 67, 0.3), 0px 1px 3px 1px rgba(60, 64, 67, 0.15);\n",
              "      fill: #174EA6;\n",
              "    }\n",
              "\n",
              "    [theme=dark] .colab-df-convert {\n",
              "      background-color: #3B4455;\n",
              "      fill: #D2E3FC;\n",
              "    }\n",
              "\n",
              "    [theme=dark] .colab-df-convert:hover {\n",
              "      background-color: #434B5C;\n",
              "      box-shadow: 0px 1px 3px 1px rgba(0, 0, 0, 0.15);\n",
              "      filter: drop-shadow(0px 1px 2px rgba(0, 0, 0, 0.3));\n",
              "      fill: #FFFFFF;\n",
              "    }\n",
              "  </style>\n",
              "\n",
              "      <script>\n",
              "        const buttonEl =\n",
              "          document.querySelector('#df-bb1f5fb5-2f74-4830-904d-52f391668cc0 button.colab-df-convert');\n",
              "        buttonEl.style.display =\n",
              "          google.colab.kernel.accessAllowed ? 'block' : 'none';\n",
              "\n",
              "        async function convertToInteractive(key) {\n",
              "          const element = document.querySelector('#df-bb1f5fb5-2f74-4830-904d-52f391668cc0');\n",
              "          const dataTable =\n",
              "            await google.colab.kernel.invokeFunction('convertToInteractive',\n",
              "                                                     [key], {});\n",
              "          if (!dataTable) return;\n",
              "\n",
              "          const docLinkHtml = 'Like what you see? Visit the ' +\n",
              "            '<a target=\"_blank\" href=https://colab.research.google.com/notebooks/data_table.ipynb>data table notebook</a>'\n",
              "            + ' to learn more about interactive tables.';\n",
              "          element.innerHTML = '';\n",
              "          dataTable['output_type'] = 'display_data';\n",
              "          await google.colab.output.renderOutput(dataTable, element);\n",
              "          const docLink = document.createElement('div');\n",
              "          docLink.innerHTML = docLinkHtml;\n",
              "          element.appendChild(docLink);\n",
              "        }\n",
              "      </script>\n",
              "    </div>\n",
              "  </div>\n",
              "  "
            ]
          },
          "metadata": {},
          "execution_count": 284
        }
      ],
      "source": [
        "import pandas as pd\n",
        "df = pd.read_csv('office_database.csv', names= [\"Username\", \"ID\", \"AccessKey\", \"FirstLoginTime\"])\n",
        "df.head()"
      ]
    },
    {
      "cell_type": "code",
      "source": [
        "id_match = df['ID'].apply(lambda f: \"814\" in str(f)) # matching ID numbers\n",
        "sum(id_match)"
      ],
      "metadata": {
        "colab": {
          "base_uri": "https://localhost:8080/"
        },
        "id": "C25yp7hlWgw7",
        "outputId": "7f1e12c2-ef01-4841-8ef0-9f9e17abc6a1"
      },
      "execution_count": 287,
      "outputs": [
        {
          "output_type": "execute_result",
          "data": {
            "text/plain": [
              "91"
            ]
          },
          "metadata": {},
          "execution_count": 287
        }
      ]
    },
    {
      "cell_type": "code",
      "source": [
        "can_go_kitchen = df['AccessKey'].apply(lambda f: f & 8 != 0) # people with access to module 5\n",
        "sum(can_go_kitchen)"
      ],
      "metadata": {
        "colab": {
          "base_uri": "https://localhost:8080/"
        },
        "id": "MD9vVIuXVNpH",
        "outputId": "569b66ee-8eda-4085-9a04-848e56a7ebbf"
      },
      "execution_count": 288,
      "outputs": [
        {
          "output_type": "execute_result",
          "data": {
            "text/plain": [
              "93"
            ]
          },
          "metadata": {},
          "execution_count": 288
        }
      ]
    },
    {
      "cell_type": "code",
      "source": [
        "from datetime import datetime\n",
        "# cleaning up first login time column to trim strings and fix format\n",
        "df['FirstLoginTime'] = df['FirstLoginTime'].apply(lambda f: f.strip())\n",
        "df['FirstLoginTime'] = df['FirstLoginTime'].apply(lambda f: '12:12' if f == '99:99' else f)\n",
        "df['FirstLoginTime'] = pd.to_datetime(df.FirstLoginTime, format='%H:%M')\n",
        "# python turned them into full date time objects, in hindsight should've just used epoch \n",
        "could_be_there = df['FirstLoginTime'].apply(lambda d: d < datetime.strptime('1900-01-01 07:14:00', '%Y-%m-%d %H:%M:%S'))\n",
        "sum(could_be_there)\n"
      ],
      "metadata": {
        "colab": {
          "base_uri": "https://localhost:8080/"
        },
        "id": "wamMr9pQVOO0",
        "outputId": "b9fc1e7f-e1ca-41d5-e313-1339aa413a4f"
      },
      "execution_count": 289,
      "outputs": [
        {
          "output_type": "execute_result",
          "data": {
            "text/plain": [
              "86"
            ]
          },
          "metadata": {},
          "execution_count": 289
        }
      ]
    },
    {
      "cell_type": "markdown",
      "source": [
        "## Introduction Solution"
      ],
      "metadata": {
        "id": "tgUbryu_WMa7"
      }
    },
    {
      "cell_type": "code",
      "source": [
        "# people that meet each condition\n",
        "df[id_match & can_go_kitchen & could_be_there] # answer to introduction (HQ)"
      ],
      "metadata": {
        "colab": {
          "base_uri": "https://localhost:8080/",
          "height": 81
        },
        "id": "lbsgc9pLVN_g",
        "outputId": "9c018c1a-900d-4b6b-baea-0b94b37962c0"
      },
      "execution_count": 291,
      "outputs": [
        {
          "output_type": "execute_result",
          "data": {
            "text/plain": [
              "                            Username      ID  AccessKey      FirstLoginTime\n",
              "4574  mystery_man                     814217         26 1900-01-01 07:08:00"
            ],
            "text/html": [
              "\n",
              "  <div id=\"df-0ce1ef94-5b74-4b9e-9ba0-c2af9e8515e9\">\n",
              "    <div class=\"colab-df-container\">\n",
              "      <div>\n",
              "<style scoped>\n",
              "    .dataframe tbody tr th:only-of-type {\n",
              "        vertical-align: middle;\n",
              "    }\n",
              "\n",
              "    .dataframe tbody tr th {\n",
              "        vertical-align: top;\n",
              "    }\n",
              "\n",
              "    .dataframe thead th {\n",
              "        text-align: right;\n",
              "    }\n",
              "</style>\n",
              "<table border=\"1\" class=\"dataframe\">\n",
              "  <thead>\n",
              "    <tr style=\"text-align: right;\">\n",
              "      <th></th>\n",
              "      <th>Username</th>\n",
              "      <th>ID</th>\n",
              "      <th>AccessKey</th>\n",
              "      <th>FirstLoginTime</th>\n",
              "    </tr>\n",
              "  </thead>\n",
              "  <tbody>\n",
              "    <tr>\n",
              "      <th>4574</th>\n",
              "      <td>mystery_man</td>\n",
              "      <td>814217</td>\n",
              "      <td>26</td>\n",
              "      <td>1900-01-01 07:08:00</td>\n",
              "    </tr>\n",
              "  </tbody>\n",
              "</table>\n",
              "</div>\n",
              "      <button class=\"colab-df-convert\" onclick=\"convertToInteractive('df-0ce1ef94-5b74-4b9e-9ba0-c2af9e8515e9')\"\n",
              "              title=\"Convert this dataframe to an interactive table.\"\n",
              "              style=\"display:none;\">\n",
              "        \n",
              "  <svg xmlns=\"http://www.w3.org/2000/svg\" height=\"24px\"viewBox=\"0 0 24 24\"\n",
              "       width=\"24px\">\n",
              "    <path d=\"M0 0h24v24H0V0z\" fill=\"none\"/>\n",
              "    <path d=\"M18.56 5.44l.94 2.06.94-2.06 2.06-.94-2.06-.94-.94-2.06-.94 2.06-2.06.94zm-11 1L8.5 8.5l.94-2.06 2.06-.94-2.06-.94L8.5 2.5l-.94 2.06-2.06.94zm10 10l.94 2.06.94-2.06 2.06-.94-2.06-.94-.94-2.06-.94 2.06-2.06.94z\"/><path d=\"M17.41 7.96l-1.37-1.37c-.4-.4-.92-.59-1.43-.59-.52 0-1.04.2-1.43.59L10.3 9.45l-7.72 7.72c-.78.78-.78 2.05 0 2.83L4 21.41c.39.39.9.59 1.41.59.51 0 1.02-.2 1.41-.59l7.78-7.78 2.81-2.81c.8-.78.8-2.07 0-2.86zM5.41 20L4 18.59l7.72-7.72 1.47 1.35L5.41 20z\"/>\n",
              "  </svg>\n",
              "      </button>\n",
              "      \n",
              "  <style>\n",
              "    .colab-df-container {\n",
              "      display:flex;\n",
              "      flex-wrap:wrap;\n",
              "      gap: 12px;\n",
              "    }\n",
              "\n",
              "    .colab-df-convert {\n",
              "      background-color: #E8F0FE;\n",
              "      border: none;\n",
              "      border-radius: 50%;\n",
              "      cursor: pointer;\n",
              "      display: none;\n",
              "      fill: #1967D2;\n",
              "      height: 32px;\n",
              "      padding: 0 0 0 0;\n",
              "      width: 32px;\n",
              "    }\n",
              "\n",
              "    .colab-df-convert:hover {\n",
              "      background-color: #E2EBFA;\n",
              "      box-shadow: 0px 1px 2px rgba(60, 64, 67, 0.3), 0px 1px 3px 1px rgba(60, 64, 67, 0.15);\n",
              "      fill: #174EA6;\n",
              "    }\n",
              "\n",
              "    [theme=dark] .colab-df-convert {\n",
              "      background-color: #3B4455;\n",
              "      fill: #D2E3FC;\n",
              "    }\n",
              "\n",
              "    [theme=dark] .colab-df-convert:hover {\n",
              "      background-color: #434B5C;\n",
              "      box-shadow: 0px 1px 3px 1px rgba(0, 0, 0, 0.15);\n",
              "      filter: drop-shadow(0px 1px 2px rgba(0, 0, 0, 0.3));\n",
              "      fill: #FFFFFF;\n",
              "    }\n",
              "  </style>\n",
              "\n",
              "      <script>\n",
              "        const buttonEl =\n",
              "          document.querySelector('#df-0ce1ef94-5b74-4b9e-9ba0-c2af9e8515e9 button.colab-df-convert');\n",
              "        buttonEl.style.display =\n",
              "          google.colab.kernel.accessAllowed ? 'block' : 'none';\n",
              "\n",
              "        async function convertToInteractive(key) {\n",
              "          const element = document.querySelector('#df-0ce1ef94-5b74-4b9e-9ba0-c2af9e8515e9');\n",
              "          const dataTable =\n",
              "            await google.colab.kernel.invokeFunction('convertToInteractive',\n",
              "                                                     [key], {});\n",
              "          if (!dataTable) return;\n",
              "\n",
              "          const docLinkHtml = 'Like what you see? Visit the ' +\n",
              "            '<a target=\"_blank\" href=https://colab.research.google.com/notebooks/data_table.ipynb>data table notebook</a>'\n",
              "            + ' to learn more about interactive tables.';\n",
              "          element.innerHTML = '';\n",
              "          dataTable['output_type'] = 'display_data';\n",
              "          await google.colab.output.renderOutput(dataTable, element);\n",
              "          const docLink = document.createElement('div');\n",
              "          docLink.innerHTML = docLinkHtml;\n",
              "          element.appendChild(docLink);\n",
              "        }\n",
              "      </script>\n",
              "    </div>\n",
              "  </div>\n",
              "  "
            ]
          },
          "metadata": {},
          "execution_count": 291
        }
      ]
    },
    {
      "cell_type": "markdown",
      "source": [
        "# **Episode 1** "
      ],
      "metadata": {
        "id": "jKgKpjGAVnwx"
      }
    },
    {
      "cell_type": "code",
      "source": [
        "# our person class for easy mapping with a helper function for later (to determine picoBots in blood)\n",
        "from typing import List\n",
        "class Person:\n",
        "  name: str\n",
        "  id: int\n",
        "  homePlanet: str\n",
        "  bloodSample: List[str]\n",
        "\n",
        "  def __init__(self, name, id, homePlanet, bloodSample):\n",
        "    self.name = name\n",
        "    self.id = id\n",
        "    self.homePlanet = homePlanet\n",
        "    self.bloodSample = bloodSample\n",
        "    \n",
        "  # checks blood sample and it's transpose for the word pico\n",
        "  def hasPicoBots(self) -> bool:\n",
        "    rotated_bloodSample = []\n",
        "    for j in range(8):\n",
        "      rotated_bloodSample.append(\"\".join([self.bloodSample[i][j] for i in range(6)]))\n",
        "    # print(rotated_bloodSample)\n",
        "    return any(['pico' in line or 'ocip' in line for line in self.bloodSample]) \\\n",
        "    or any(['pico' in line or 'ocip' in line for line in rotated_bloodSample]) \n",
        "                                                                                       "
      ],
      "metadata": {
        "id": "KgfrdRBTknXj"
      },
      "execution_count": 127,
      "outputs": []
    },
    {
      "cell_type": "code",
      "source": [
        "# utility function to test different blood samples from clean and gen1 files\n",
        "def arg_cleaner(arg):\n",
        "  '''+--------+\n",
        "  |    pico|\n",
        "  | ppco ci|\n",
        "  |op c    |\n",
        "  |c c poco|\n",
        "  |pcp  cpi|\n",
        "  |ciccccoo|\n",
        "  +--------+'''\n",
        "  arg = [line.strip()[1:-1] for line in arg.split('\\n')[1:-1]]\n",
        "  return arg"
      ],
      "metadata": {
        "id": "pP9osB8M1sjQ"
      },
      "execution_count": 40,
      "outputs": []
    },
    {
      "cell_type": "markdown",
      "source": [
        "## **(1.1) Puzzle 1**"
      ],
      "metadata": {
        "id": "gPDgNf7di1Xj"
      }
    },
    {
      "cell_type": "code",
      "source": [
        "# compile population dataset\n",
        "population = []\n",
        "l = []\n",
        "with open('population.txt', 'r') as file:\n",
        "    l = file.readlines()\n",
        "\n",
        "# loop over data 14 lines at a time to clean it up and store as person objects\n",
        "for i in range(0, len(l), 14):\n",
        "  person = l[i:i + 14]\n",
        "  name = \" \".join(person[0].split()[1:]) # skip 'Name: ' \n",
        "  id = int(person[1].split()[1]) # skip 'ID: '\n",
        "  home = \" \".join(person[2].split()[2:]) # skip 'home planet: '\n",
        "  bs = [line.strip()[1:-1] for line in person[3:][2:8]] # read bloodSample as list of str, trimming whitespace removing | and +- lines (only storing chars)\n",
        "  population.append(Person(name, id, home, bs))\n",
        "  \n",
        "print(len(population)) # check/verify size of pop with file\n"
      ],
      "metadata": {
        "colab": {
          "base_uri": "https://localhost:8080/"
        },
        "id": "RElM2H5X5xje",
        "outputId": "2c7173b2-6f6b-4206-cdd1-8b451cfd6fce"
      },
      "execution_count": 292,
      "outputs": [
        {
          "output_type": "stream",
          "name": "stdout",
          "text": [
            "12732\n"
          ]
        }
      ]
    },
    {
      "cell_type": "code",
      "source": [
        "sum([person.id for person in population if person.hasPicoBots()]) # answer to puzzle 1"
      ],
      "metadata": {
        "colab": {
          "base_uri": "https://localhost:8080/"
        },
        "id": "9BuKjkNaxSQE",
        "outputId": "3977a787-698f-43d1-90a8-ef2b53415f05"
      },
      "execution_count": 303,
      "outputs": [
        {
          "output_type": "execute_result",
          "data": {
            "text/plain": [
              "2288948789"
            ]
          },
          "metadata": {},
          "execution_count": 303
        }
      ]
    },
    {
      "cell_type": "markdown",
      "source": [
        "## **(1.2) Puzzle 2**"
      ],
      "metadata": {
        "id": "1sEsn_duj6Kt"
      }
    },
    {
      "cell_type": "code",
      "source": [
        "import numpy as np\n",
        "import matplotlib.pyplot as plt\n",
        "from mpl_toolkits.mplot3d import Axes3D\n",
        "\n",
        "# make a dict for galaxy_map with (name, coordinates)\n",
        "galaxy_map = {}\n",
        "x, y, z = [], [], []\n",
        "\n",
        "with open('galaxy_map.txt') as glx:\n",
        "  lines = [line.split(':') for line in glx.readlines()]\n",
        "  for line in lines:\n",
        "    planet = line[0].strip()\n",
        "    coordinates = tuple(map(int, line[1].strip()[1:-1].split(',')))\n",
        "    galaxy_map[planet] = coordinates \n",
        "    x.append(coordinates[0])\n",
        "    y.append(coordinates[1])\n",
        "    z.append(coordinates[2])\n",
        "\n",
        "# plot galaxy to visualize outliers\n",
        "fig = plt.figure(figsize=(8, 8))\n",
        "ax = fig.add_subplot(111, projection='3d')\n",
        "\n",
        "ax.scatter(x, y, z)\n",
        "plt.show()"
      ],
      "metadata": {
        "colab": {
          "base_uri": "https://localhost:8080/",
          "height": 466
        },
        "id": "GvOGi5Oz9F7R",
        "outputId": "4ece38a3-6acf-4bff-f5e0-ff04058bf649"
      },
      "execution_count": 304,
      "outputs": [
        {
          "output_type": "display_data",
          "data": {
            "text/plain": [
              "<Figure size 576x576 with 1 Axes>"
            ],
            "image/png": "[encoded data removed]"
          },
          "metadata": {
            "needs_background": "light"
          }
        }
      ]
    },
    {
      "cell_type": "code",
      "source": [
        "#! pip install scikit-spatial\n",
        "from skspatial.objects import Plane\n",
        "from skspatial.objects import Points\n",
        "from skspatial.plotting import plot_3d\n",
        "\n",
        "# find best fitting plane for our coordinates\n",
        "points = Points([list(v) for k, v in galaxy_map.items()])\n",
        "plane = Plane.best_fit(points)\n",
        "distances = dict([(k, plane.distance_point(list(v))) for k, v in galaxy_map.items()])\n",
        "outliers = dict([(k, v) for k, v in distances.items() if v > 2]) # outlier limit specified in question\n",
        "outliers"
      ],
      "metadata": {
        "colab": {
          "base_uri": "https://localhost:8080/"
        },
        "id": "tEOUNH3OXSJp",
        "outputId": "5528ad1b-966e-406d-bb98-d0bcb00ef880"
      },
      "execution_count": 295,
      "outputs": [
        {
          "output_type": "execute_result",
          "data": {
            "text/plain": [
              "{'Algo Major': 17.094076994006272,\n",
              " 'Alpha Andron': 18.570147347806227,\n",
              " 'Alpha Aurnus': 15.30644512387339,\n",
              " 'Alpha Carsa': 16.558030382638748,\n",
              " 'Alpha Lupisci': 17.01317619023222,\n",
              " 'Alpha Menax Minor': 14.679062809785268,\n",
              " 'Andros Major': 18.15572354742764,\n",
              " 'Aquarth': 17.330929522841473,\n",
              " 'Beta Dela IV': 19.695138612851604,\n",
              " 'Carda III': 15.722061712776394,\n",
              " 'Cerenis V': 18.505882337039477,\n",
              " 'Cralis III': 15.23428215897532,\n",
              " 'Dralis II': 17.43018479591629,\n",
              " 'Earia': 20.09897682279569,\n",
              " 'Equila Minor': 17.092541439010297,\n",
              " 'Erinix': 17.83350330363349,\n",
              " 'Forale': 18.473352389560475,\n",
              " 'Gamma Bores': 15.069918330075517,\n",
              " 'Gamma Carinus Major': 17.048515571908123,\n",
              " 'Minoces': 16.853352118091596,\n",
              " 'Phoeni V': 17.54729203485332,\n",
              " 'Pisci': 16.763092834422906,\n",
              " 'Vens IV': 18.294465731222203,\n",
              " 'Venta': 17.39189067372093,\n",
              " 'Viria II': 19.426604266384306}"
            ]
          },
          "metadata": {},
          "execution_count": 295
        }
      ]
    },
    {
      "cell_type": "code",
      "source": [
        "sum([person.id for person in population if person.homePlanet in outliers.keys()]) # answer to puzzle 2"
      ],
      "metadata": {
        "colab": {
          "base_uri": "https://localhost:8080/"
        },
        "id": "06OqFjfCXqPp",
        "outputId": "76d03f5c-d154-41f4-fa82-9ed5f33a291a"
      },
      "execution_count": 296,
      "outputs": [
        {
          "output_type": "execute_result",
          "data": {
            "text/plain": [
              "2438905648"
            ]
          },
          "metadata": {},
          "execution_count": 296
        }
      ]
    },
    {
      "cell_type": "markdown",
      "source": [
        "## **(1.3) Puzzle 3**"
      ],
      "metadata": {
        "id": "Mmn1LJIAlEH3"
      }
    },
    {
      "cell_type": "code",
      "source": [
        "# sequence of places retrieved from Jelly Jones' fitbit watch\n",
        "jelly_jones_sequence = ['Junkyard', 'Pod Racing Track', 'Pod Racing Track', 'Palace', 'Factory']"
      ],
      "metadata": {
        "id": "NJ0eXXricHKu"
      },
      "execution_count": 152,
      "outputs": []
    },
    {
      "cell_type": "code",
      "source": [
        "from collections import OrderedDict\n",
        "\n",
        "# read data from security_log\n",
        "with open('security_log.txt', 'r') as file:\n",
        "  lines = file.readlines()\n",
        "\n",
        "\n",
        "# into a structure with { people: [places]} (places are inserted in order of time)\n",
        "\n",
        "# convert 24hr to minute of day\n",
        "def minute_of_day(time):\n",
        "  hours, minutes = list(map(int, time.split(':')))\n",
        "  return hours * 60 + minutes\n",
        "\n",
        "people = {}\n",
        "blacklist = set()\n",
        "i = 0\n",
        "while i < len(lines):\n",
        "  line = lines[i]\n",
        "  if 'Place' in line:\n",
        "    last_place = line.split(':')[1].strip()\n",
        "  elif 'in:' in line or 'out:' in line: # in/out list colon added to avoid names like 'edwin'\n",
        "    last_people = line.split(':')[1].strip().split(', ')  \n",
        "    for person in last_people:\n",
        "      if person not in people:\n",
        "        people[person] = {}\n",
        "      people[person][last_time] = last_place\n",
        "\n",
        "      # we are interested in people only if they visited JUST the places from jelly_jones_sequence\n",
        "      if last_place not in jelly_jones_sequence:\n",
        "        blacklist.add(person)\n",
        "  elif ':' in line: # time\n",
        "    last_time = minute_of_day(line.strip())\n",
        "  i += 1\n",
        "\n",
        "len(people)"
      ],
      "metadata": {
        "colab": {
          "base_uri": "https://localhost:8080/"
        },
        "id": "8UOHqSQzldLX",
        "outputId": "12ad4ad6-f7cc-4352-fcdd-f7de4705f917"
      },
      "execution_count": 250,
      "outputs": [
        {
          "output_type": "execute_result",
          "data": {
            "text/plain": [
              "12732"
            ]
          },
          "metadata": {},
          "execution_count": 250
        }
      ]
    },
    {
      "cell_type": "code",
      "source": [
        "# people who only visited the places we want\n",
        "person_of_interest = [person for person in people if person not in blacklist]\n",
        "\n",
        "# next we go over the given places and determine people who visited them in the desired entry-exit sequence\n",
        "target_sequence = []\n",
        "for item in zip(jelly_jones_sequence, jelly_jones_sequence):\n",
        "  target_sequence.append(item[0])\n",
        "  target_sequence.append(item[1])\n",
        "\n",
        "# peoples visits  ordered (by time) for Monday\n",
        "routines = {}\n",
        "for person in person_of_interest:\n",
        "  routines[person] = [item[1] for item in sorted(people[person].items())] # ordered by entry and exit\n",
        "\n",
        "# people whose visit sequence and frequency matches with desired sequence\n",
        "matching_routines = [person for person in routines if routines[person] == target_sequence]\n",
        "len(matching_routines)\n"
      ],
      "metadata": {
        "colab": {
          "base_uri": "https://localhost:8080/"
        },
        "id": "iU8q3va-lpwf",
        "outputId": "50e4c3fc-9b1b-4be3-d272-e58075053dbd"
      },
      "execution_count": 274,
      "outputs": [
        {
          "output_type": "execute_result",
          "data": {
            "text/plain": [
              "607"
            ]
          },
          "metadata": {},
          "execution_count": 274
        }
      ]
    },
    {
      "cell_type": "code",
      "source": [
        "sum([person.id for person in population if person.name in matching_routines]) # answer to puzzle 3"
      ],
      "metadata": {
        "colab": {
          "base_uri": "https://localhost:8080/"
        },
        "id": "bvian5OC2yQ7",
        "outputId": "b2aafe66-afdc-4a27-93f6-7f9591356da6"
      },
      "execution_count": 281,
      "outputs": [
        {
          "output_type": "execute_result",
          "data": {
            "text/plain": [
              "3362264068"
            ]
          },
          "metadata": {},
          "execution_count": 281
        }
      ]
    },
    {
      "cell_type": "markdown",
      "source": [
        "## Episode 1 Solution"
      ],
      "metadata": {
        "id": "cFj52QkTXG3F"
      }
    },
    {
      "cell_type": "code",
      "source": [
        "[person.name for person in population if person.name in matching_routines and person.hasPicoBots() and person.homePlanet in outliers.keys()]"
      ],
      "metadata": {
        "colab": {
          "base_uri": "https://localhost:8080/"
        },
        "id": "bNuHJQ4b_655",
        "outputId": "5a8aa104-eb33-4058-c07f-8d54c32bd48b"
      },
      "execution_count": 307,
      "outputs": [
        {
          "output_type": "execute_result",
          "data": {
            "text/plain": [
              "['Tun Kazem']"
            ]
          },
          "metadata": {},
          "execution_count": 307
        }
      ]
    },
    {
      "cell_type": "markdown",
      "source": [
        "# New Section"
      ],
      "metadata": {
        "id": "V0SsSx_6XvJL"
      }
    },
    {
      "cell_type": "code",
      "source": [
        ""
      ],
      "metadata": {
        "id": "cq8OefZeXZjz"
      },
      "execution_count": null,
      "outputs": []
    }
  ]
}